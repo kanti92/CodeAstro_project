{
 "cells": [
  {
   "cell_type": "code",
   "execution_count": 98,
   "metadata": {
    "tags": []
   },
   "outputs": [],
   "source": [
    "import numpy as np\n",
    "import matplotlib.pyplot as plt\n",
    "import seaborn as sns\n",
    "import pandas as pd"
   ]
  },
  {
   "cell_type": "code",
   "execution_count": 111,
   "metadata": {},
   "outputs": [],
   "source": [
    "class general_plots:\n",
    "    def __init__(self, nb_rows_col):\n",
    "        self.nb_rows = nb_rows_col[0]\n",
    "        self.nb_col = nb_rows_col[1]\n",
    "        self.nb_plot = self.nb_rows * self.nb_col\n",
    "        #self.fig_name = \"Plot\"\n",
    "\n",
    "    def line(self, data, col_list, fig_name=\"Plot\"):\n",
    "\n",
    "        x, y = general_plots.get_components(data)\n",
    "             \n",
    "        fig, ax = plt.subplots(self.nb_rows, self.nb_col, figsize=(7,7))\n",
    "\n",
    "        ax.set(xlim=(0, 10), ylim=(-2, 2), xlabel='x', ylabel='y(x)',title=fig_name)\n",
    "        ax.plot(x, y, c='red', linestyle='-', alpha = 0.8, label='sin', linewidth=2)\n",
    "        #ax.plot(x, y2, c='blue', linestyle='dashed', alpha = 0.4, label='cos', linewidth=1)\n",
    "        # ax.plot(x,y3, c='purple', linestyle='-.', alpha = 0.4, label='cos', linewidth=1)\n",
    "        ax.grid(linestyle=':', linewidth =1, alpha=0.5)\n",
    "        ax.hlines(y = 1, xmin = 0, xmax = 4, color='green', linestyle=':', linewidth =3) \n",
    "        ax.vlines(x = 1, ymin = 0, ymax = 4, color='pink', linestyle='--', linewidth =3) \n",
    "        ax.tick_params(axis=\"x\", labelsize=13)\n",
    "        ax.tick_params(axis=\"y\", labelsize=13)\n",
    "        ax.set_xlabel('X', fontsize=18)\n",
    "        ax.set_ylabel('Y', fontsize=18)\n",
    "        ax.legend(loc=4, ncol=1, framealpha=0.7, title='legend', markerscale=0.3)\n",
    "        plt.show()\n",
    "\n",
    "\n",
    "\n",
    "\n",
    "    def get_components(self, data):\n",
    "        # Dataframe\n",
    "        if type(data) == pd.core.frame.DataFrame:\n",
    "            if all(type(elem) == int for elem in col_list) == True:\n",
    "                x = data.iloc[:,col_list[0]]\n",
    "                y = data.iloc[:,col_list[1]]\n",
    "            elif all(type(elem) == str for elem in col_list) == True:\n",
    "                x = data.loc[:,col_list[0]]\n",
    "                y = data.loc[:,col_list[1]]\n",
    "            else:\n",
    "                print('Error: the column list is not well-specified')\n",
    "        # Array or list\n",
    "        elif type(data) == np.ndarray or type(data) == list:\n",
    "            # List of tuples\n",
    "            if all(isinstance(item, tuple) for item in data):\n",
    "                x = [i[col_list[0]] for i in data]\n",
    "                y = [i[col_list[1]] for i in data]\n",
    "            else:\n",
    "                x = data[:,col_list[0]]\n",
    "                y = data[:,col_list[1]]\n",
    "        # Tuple\n",
    "        elif type(data) == tuple:\n",
    "            x = [i[col_list[0]] for i in data]\n",
    "            y = [i[col_list[1]] for i in data]\n",
    "        else:\n",
    "            sys.exit('The data format is not recognized')\n",
    "        return x, y\n",
    "\n",
    "    \n",
    "    \n",
    "    def load_data(self):\n",
    "        \n",
    "        return 0\n",
    "\n",
    "    def dataframe(self, data_dict):\n",
    "        #nb_col = len(data.values())\n",
    "        col_name_list = data_dict.keys() \n",
    "        df = pd.DataFrame(data=data_dict, columns=col_name_list)\n",
    "        \n",
    "        return df\n",
    "\n",
    "    def save_fig(self):\n",
    "        print(\"save\")\n",
    "        return "
   ]
  },
  {
   "cell_type": "markdown",
   "metadata": {},
   "source": [
    "### Data"
   ]
  },
  {
   "cell_type": "code",
   "execution_count": 112,
   "metadata": {},
   "outputs": [],
   "source": [
    "x  = np.linspace(0, 10, 1000)\n",
    "y1 = np.cos(x)\n",
    "y2 = np.tan(x)\n",
    "y3 = np.sin(x)\n",
    "\n",
    "data = list([x, y1, y2, y3])\n",
    "data = np.transpose(data)\n",
    "dd = pd.DataFrame(data, columns=['x', 'cos', 'tan', 'sin'])"
   ]
  },
  {
   "cell_type": "markdown",
   "metadata": {},
   "source": [
    "### Create object and call methods:"
   ]
  },
  {
   "cell_type": "code",
   "execution_count": 113,
   "metadata": {
    "tags": []
   },
   "outputs": [],
   "source": [
    "nb_rows_col = (1,1)\n",
    "c = general_plots(nb_rows_col)\n"
   ]
  },
  {
   "cell_type": "code",
   "execution_count": 114,
   "metadata": {
    "tags": []
   },
   "outputs": [
    {
     "output_type": "error",
     "ename": "TypeError",
     "evalue": "get_components() missing 1 required positional argument: 'data'",
     "traceback": [
      "\u001b[0;31m---------------------------------------------------------------------------\u001b[0m",
      "\u001b[0;31mTypeError\u001b[0m                                 Traceback (most recent call last)",
      "\u001b[0;32m<ipython-input-114-1e1011cf7469>\u001b[0m in \u001b[0;36m<module>\u001b[0;34m\u001b[0m\n\u001b[0;32m----> 1\u001b[0;31m \u001b[0mc\u001b[0m\u001b[0;34m.\u001b[0m\u001b[0mline\u001b[0m\u001b[0;34m(\u001b[0m\u001b[0mdd\u001b[0m\u001b[0;34m,\u001b[0m \u001b[0mcol_list\u001b[0m\u001b[0;34m=\u001b[0m\u001b[0;34m[\u001b[0m\u001b[0;34m'x'\u001b[0m\u001b[0;34m,\u001b[0m\u001b[0;34m'sin'\u001b[0m\u001b[0;34m]\u001b[0m\u001b[0;34m)\u001b[0m\u001b[0;34m\u001b[0m\u001b[0;34m\u001b[0m\u001b[0m\n\u001b[0m",
      "\u001b[0;32m<ipython-input-111-b0b3107ebc43>\u001b[0m in \u001b[0;36mline\u001b[0;34m(self, data, col_list, fig_name)\u001b[0m\n\u001b[1;32m      8\u001b[0m     \u001b[0;32mdef\u001b[0m \u001b[0mline\u001b[0m\u001b[0;34m(\u001b[0m\u001b[0mself\u001b[0m\u001b[0;34m,\u001b[0m \u001b[0mdata\u001b[0m\u001b[0;34m,\u001b[0m \u001b[0mcol_list\u001b[0m\u001b[0;34m,\u001b[0m \u001b[0mfig_name\u001b[0m\u001b[0;34m=\u001b[0m\u001b[0;34m\"Plot\"\u001b[0m\u001b[0;34m)\u001b[0m\u001b[0;34m:\u001b[0m\u001b[0;34m\u001b[0m\u001b[0;34m\u001b[0m\u001b[0m\n\u001b[1;32m      9\u001b[0m \u001b[0;34m\u001b[0m\u001b[0m\n\u001b[0;32m---> 10\u001b[0;31m         \u001b[0mx\u001b[0m\u001b[0;34m,\u001b[0m \u001b[0my\u001b[0m \u001b[0;34m=\u001b[0m \u001b[0mgeneral_plots\u001b[0m\u001b[0;34m.\u001b[0m\u001b[0mget_components\u001b[0m\u001b[0;34m(\u001b[0m\u001b[0mdata\u001b[0m\u001b[0;34m)\u001b[0m\u001b[0;34m\u001b[0m\u001b[0;34m\u001b[0m\u001b[0m\n\u001b[0m\u001b[1;32m     11\u001b[0m \u001b[0;34m\u001b[0m\u001b[0m\n\u001b[1;32m     12\u001b[0m         \u001b[0mfig\u001b[0m\u001b[0;34m,\u001b[0m \u001b[0max\u001b[0m \u001b[0;34m=\u001b[0m \u001b[0mplt\u001b[0m\u001b[0;34m.\u001b[0m\u001b[0msubplots\u001b[0m\u001b[0;34m(\u001b[0m\u001b[0mself\u001b[0m\u001b[0;34m.\u001b[0m\u001b[0mnb_rows\u001b[0m\u001b[0;34m,\u001b[0m \u001b[0mself\u001b[0m\u001b[0;34m.\u001b[0m\u001b[0mnb_col\u001b[0m\u001b[0;34m,\u001b[0m \u001b[0mfigsize\u001b[0m\u001b[0;34m=\u001b[0m\u001b[0;34m(\u001b[0m\u001b[0;36m7\u001b[0m\u001b[0;34m,\u001b[0m\u001b[0;36m7\u001b[0m\u001b[0;34m)\u001b[0m\u001b[0;34m)\u001b[0m\u001b[0;34m\u001b[0m\u001b[0;34m\u001b[0m\u001b[0m\n",
      "\u001b[0;31mTypeError\u001b[0m: get_components() missing 1 required positional argument: 'data'"
     ]
    }
   ],
   "source": [
    "c.line(dd, col_list=['x','sin'])"
   ]
  },
  {
   "cell_type": "code",
   "execution_count": 86,
   "metadata": {},
   "outputs": [],
   "source": [
    "dd = ((9,7,5), (8,6,5), (3,1,2), (33,4,55), (4,5,6))"
   ]
  },
  {
   "cell_type": "code",
   "execution_count": null,
   "metadata": {},
   "outputs": [],
   "source": []
  }
 ],
 "metadata": {
  "language_info": {
   "codemirror_mode": {
    "name": "ipython",
    "version": 3
   },
   "file_extension": ".py",
   "mimetype": "text/x-python",
   "name": "python",
   "nbconvert_exporter": "python",
   "pygments_lexer": "ipython3",
   "version": "3.8.3-final"
  },
  "orig_nbformat": 2,
  "kernelspec": {
   "name": "python3",
   "display_name": "Python 3"
  }
 },
 "nbformat": 4,
 "nbformat_minor": 2
}