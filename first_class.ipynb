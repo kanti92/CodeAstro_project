{
 "cells": [
  {
   "cell_type": "code",
   "execution_count": 3,
   "metadata": {
    "tags": []
   },
   "outputs": [],
   "source": [
    "import numpy as np\n",
    "import matplotlib.pyplot as plt\n",
    "import seaborn as sns\n",
    "import pandas as pd"
   ]
  },
  {
   "cell_type": "code",
   "execution_count": 4,
   "metadata": {},
   "outputs": [
    {
     "output_type": "error",
     "ename": "SyntaxError",
     "evalue": "invalid syntax (<ipython-input-4-90026323fe76>, line 10)",
     "traceback": [
      "\u001b[0;36m  File \u001b[0;32m\"<ipython-input-4-90026323fe76>\"\u001b[0;36m, line \u001b[0;32m10\u001b[0m\n\u001b[0;31m    if type(data).__module__ == 'pandas'\u001b[0m\n\u001b[0m                                        ^\u001b[0m\n\u001b[0;31mSyntaxError\u001b[0m\u001b[0;31m:\u001b[0m invalid syntax\n"
     ]
    }
   ],
   "source": [
    "class general_plots:\n",
    "    def __init__(self, nb_rows_col):\n",
    "        self.nb_rows = nb_rows_col[0]\n",
    "        self.nb_col = nb_rows_col[1]\n",
    "        self.nb_plot = self.nb_rows * self.nb_col\n",
    "        #self.fig_name = \"Plot\"\n",
    "\n",
    "    def line(self, data, col_list, fig_name=\"Plot\"):\n",
    "\n",
    "        if type(data).__module__ == 'pandas.core.frame':\n",
    "            if all(isinstance(item, int) for item in data) == True:\n",
    "                x = data[col_list[0]]\n",
    "                y = data[col_list[1]]\n",
    "            elif all(isinstance(item, str) for item in data) == True:\n",
    "                x = data[col_list[0]]\n",
    "                y = data[col_list[1]]\n",
    "            else:\n",
    "                print('there is something wrong')\n",
    "\n",
    "        if type(data).__module__ == 'numpy':\n",
    "            if all(isinstance(item, int) for item in data) == True:\n",
    "                x = data[col_list[0]]\n",
    "                y = data[col_list[1]]\n",
    "            elif all(isinstance(item, str) for item in data) == True:\n",
    "                x = data[col_list[0]]\n",
    "                y = data[col_list[1]]\n",
    "            else:\n",
    "                print('there is something wrong')\n",
    "        \n",
    "        \n",
    "\n",
    "        fig, ax = plt.subplots(self.nb_rows, self.nb_col, figsize=(7,7))\n",
    "\n",
    "        ax.set(xlim=(0, 10), ylim=(-2, 2), xlabel='x', ylabel='y(x)',title=fig_name)\n",
    "        ax.plot(x, y, c='red', linestyle='-', alpha = 0.8, label='sin', linewidth=2)\n",
    "        #ax.plot(x, y2, c='blue', linestyle='dashed', alpha = 0.4, label='cos', linewidth=1)\n",
    "        # ax.plot(x,y3, c='purple', linestyle='-.', alpha = 0.4, label='cos', linewidth=1)\n",
    "        ax.grid(linestyle=':', linewidth =1, alpha=0.5)\n",
    "        ax.hlines(y = 1, xmin = 0, xmax = 4, color='green', linestyle=':', linewidth =3) \n",
    "        ax.vlines(x = 1, ymin = 0, ymax = 4, color='pink', linestyle='--', linewidth =3) \n",
    "        ax.tick_params(axis=\"x\", labelsize=13)\n",
    "        ax.tick_params(axis=\"y\", labelsize=13)\n",
    "        ax.set_xlabel('X', fontsize=18)\n",
    "        ax.set_ylabel('Y', fontsize=18)\n",
    "        ax.legend(loc=4, ncol=1, framealpha=0.7, title='legend', markerscale=0.3)\n",
    "        plt.show()\n",
    "\n",
    "        return 0\n",
    "\n",
    "    def load_data(self):\n",
    "        \n",
    "        return 0\n",
    "\n",
    "    def dataframe(self, data_dict):\n",
    "        #nb_col = len(data.values())\n",
    "        col_name_list = data_dict.keys() \n",
    "        df = pd.DataFrame(data=data_dict, columns=col_name_list)\n",
    "        \n",
    "        return df\n",
    "\n",
    "    def save_fig(self):\n",
    "        print(\"save\")\n",
    "        return "
   ]
  },
  {
   "cell_type": "markdown",
   "metadata": {},
   "source": [
    "### Data"
   ]
  },
  {
   "cell_type": "code",
   "execution_count": 8,
   "metadata": {},
   "outputs": [],
   "source": [
    "x  = np.linspace(0, 10, 1000)\n",
    "y1 = np.cos(x)\n",
    "y2 = np.tan(x)\n",
    "y3 = np.sin(x)\n",
    "\n",
    "data = list([x, y1, y2, y3])\n",
    "data = np.transpose(data)\n",
    "dd = pd.DataFrame(data, columns=['x', 'cos', 'tan', 'sin'])"
   ]
  },
  {
   "cell_type": "code",
   "execution_count": 9,
   "metadata": {},
   "outputs": [
    {
     "output_type": "execute_result",
     "data": {
      "text/plain": "array([[ 0.        ,  1.        ,  0.        ,  0.        ],\n       [ 0.01001001,  0.9999499 ,  0.01001034,  0.01000984],\n       [ 0.02002002,  0.99979961,  0.0200227 ,  0.02001868],\n       ...,\n       [ 9.97997998, -0.84979397,  0.62028563, -0.52711499],\n       [ 9.98998999, -0.84447506,  0.6342341 , -0.53559488],\n       [10.        , -0.83907153,  0.64836083, -0.54402111]])"
     },
     "metadata": {},
     "execution_count": 9
    }
   ],
   "source": [
    "data"
   ]
  },
  {
   "cell_type": "markdown",
   "metadata": {},
   "source": [
    "### Create object and call methods:"
   ]
  },
  {
   "cell_type": "code",
   "execution_count": 56,
   "metadata": {
    "tags": []
   },
   "outputs": [],
   "source": [
    "nb_rows_col = (1,1)\n",
    "c = general_plots(nb_rows_col)\n"
   ]
  },
  {
   "cell_type": "code",
   "execution_count": 57,
   "metadata": {
    "tags": []
   },
   "outputs": [
    {
     "output_type": "stream",
     "name": "stdout",
     "text": "there is something wrong\nhello\n"
    },
    {
     "output_type": "error",
     "ename": "UnboundLocalError",
     "evalue": "local variable 'x' referenced before assignment",
     "traceback": [
      "\u001b[0;31m---------------------------------------------------------------------------\u001b[0m",
      "\u001b[0;31mUnboundLocalError\u001b[0m                         Traceback (most recent call last)",
      "\u001b[0;32m<ipython-input-57-a537ef680981>\u001b[0m in \u001b[0;36m<module>\u001b[0;34m\u001b[0m\n\u001b[0;32m----> 1\u001b[0;31m \u001b[0mc\u001b[0m\u001b[0;34m.\u001b[0m\u001b[0mline\u001b[0m\u001b[0;34m(\u001b[0m\u001b[0mdata\u001b[0m\u001b[0;34m,\u001b[0m\u001b[0;34m[\u001b[0m\u001b[0;34m'sin'\u001b[0m\u001b[0;34m,\u001b[0m\u001b[0;34m'tan'\u001b[0m\u001b[0;34m]\u001b[0m\u001b[0;34m,\u001b[0m \u001b[0mfig_name\u001b[0m\u001b[0;34m=\u001b[0m\u001b[0;34m'test'\u001b[0m\u001b[0;34m)\u001b[0m\u001b[0;34m\u001b[0m\u001b[0;34m\u001b[0m\u001b[0m\n\u001b[0m",
      "\u001b[0;32m<ipython-input-53-b7a093416609>\u001b[0m in \u001b[0;36mline\u001b[0;34m(self, data, col_list, fig_name)\u001b[0m\n\u001b[1;32m     23\u001b[0m \u001b[0;34m\u001b[0m\u001b[0m\n\u001b[1;32m     24\u001b[0m         \u001b[0max\u001b[0m\u001b[0;34m.\u001b[0m\u001b[0mset\u001b[0m\u001b[0;34m(\u001b[0m\u001b[0mxlim\u001b[0m\u001b[0;34m=\u001b[0m\u001b[0;34m(\u001b[0m\u001b[0;36m0\u001b[0m\u001b[0;34m,\u001b[0m \u001b[0;36m10\u001b[0m\u001b[0;34m)\u001b[0m\u001b[0;34m,\u001b[0m \u001b[0mylim\u001b[0m\u001b[0;34m=\u001b[0m\u001b[0;34m(\u001b[0m\u001b[0;34m-\u001b[0m\u001b[0;36m2\u001b[0m\u001b[0;34m,\u001b[0m \u001b[0;36m2\u001b[0m\u001b[0;34m)\u001b[0m\u001b[0;34m,\u001b[0m \u001b[0mxlabel\u001b[0m\u001b[0;34m=\u001b[0m\u001b[0;34m'x'\u001b[0m\u001b[0;34m,\u001b[0m \u001b[0mylabel\u001b[0m\u001b[0;34m=\u001b[0m\u001b[0;34m'y(x)'\u001b[0m\u001b[0;34m,\u001b[0m\u001b[0mtitle\u001b[0m\u001b[0;34m=\u001b[0m\u001b[0mfig_name\u001b[0m\u001b[0;34m)\u001b[0m\u001b[0;34m\u001b[0m\u001b[0;34m\u001b[0m\u001b[0m\n\u001b[0;32m---> 25\u001b[0;31m         \u001b[0max\u001b[0m\u001b[0;34m.\u001b[0m\u001b[0mplot\u001b[0m\u001b[0;34m(\u001b[0m\u001b[0mx\u001b[0m\u001b[0;34m,\u001b[0m \u001b[0my\u001b[0m\u001b[0;34m,\u001b[0m \u001b[0mc\u001b[0m\u001b[0;34m=\u001b[0m\u001b[0;34m'red'\u001b[0m\u001b[0;34m,\u001b[0m \u001b[0mlinestyle\u001b[0m\u001b[0;34m=\u001b[0m\u001b[0;34m'-'\u001b[0m\u001b[0;34m,\u001b[0m \u001b[0malpha\u001b[0m \u001b[0;34m=\u001b[0m \u001b[0;36m0.8\u001b[0m\u001b[0;34m,\u001b[0m \u001b[0mlabel\u001b[0m\u001b[0;34m=\u001b[0m\u001b[0;34m'sin'\u001b[0m\u001b[0;34m,\u001b[0m \u001b[0mlinewidth\u001b[0m\u001b[0;34m=\u001b[0m\u001b[0;36m2\u001b[0m\u001b[0;34m)\u001b[0m\u001b[0;34m\u001b[0m\u001b[0;34m\u001b[0m\u001b[0m\n\u001b[0m\u001b[1;32m     26\u001b[0m         \u001b[0;31m#ax.plot(x, y2, c='blue', linestyle='dashed', alpha = 0.4, label='cos', linewidth=1)\u001b[0m\u001b[0;34m\u001b[0m\u001b[0;34m\u001b[0m\u001b[0;34m\u001b[0m\u001b[0m\n\u001b[1;32m     27\u001b[0m         \u001b[0;31m# ax.plot(x,y3, c='purple', linestyle='-.', alpha = 0.4, label='cos', linewidth=1)\u001b[0m\u001b[0;34m\u001b[0m\u001b[0;34m\u001b[0m\u001b[0;34m\u001b[0m\u001b[0m\n",
      "\u001b[0;31mUnboundLocalError\u001b[0m: local variable 'x' referenced before assignment"
     ]
    }
   ],
   "source": []
  },
  {
   "cell_type": "code",
   "execution_count": null,
   "metadata": {},
   "outputs": [],
   "source": []
  }
 ],
 "metadata": {
  "language_info": {
   "codemirror_mode": {
    "name": "ipython",
    "version": 3
   },
   "file_extension": ".py",
   "mimetype": "text/x-python",
   "name": "python",
   "nbconvert_exporter": "python",
   "pygments_lexer": "ipython3",
   "version": "3.8.3-final"
  },
  "orig_nbformat": 2,
  "kernelspec": {
   "name": "python3",
   "display_name": "Python 3"
  }
 },
 "nbformat": 4,
 "nbformat_minor": 2
}